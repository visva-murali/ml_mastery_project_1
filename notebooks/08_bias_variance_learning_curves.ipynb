{
  "cells": [
    {
      "cell_type": "markdown",
      "metadata": {},
      "source": "# 08 \u2014 Bias\u2013Variance: Learning & Validation Curves\n\n**Goal:** Diagnose under/overfitting and choose the right fix.\n"
    },
    {
      "cell_type": "code",
      "metadata": {},
      "execution_count": null,
      "outputs": [],
      "source": "import warnings\nimport numpy as np\nimport pandas as pd\n\nfrom sklearn.datasets import fetch_california_housing, make_regression\nfrom sklearn.model_selection import train_test_split\n\ndef load_regression_data(random_state=42):\n    \"\"\"Return (X, y, feature_names) as numpy arrays.\n    Try California Housing; fallback to synthetic if unavailable (e.g., offline).\n    \"\"\"\n    try:\n        cali = fetch_california_housing(as_frame=True)\n        df = cali.frame.copy()\n        X = df.drop(columns=[\"MedHouseVal\"]).values\n        y = df[\"MedHouseVal\"].values\n        feature_names = list(df.drop(columns=[\"MedHouseVal\"]).columns)\n    except Exception as e:\n        warnings.warn(f\"California Housing fetch failed: {e}. Falling back to synthetic make_regression.\")\n        X, y = make_regression(n_samples=5000, n_features=8, n_informative=6, noise=8.5, random_state=random_state)\n        feature_names = [f\"x{i}\" for i in range(X.shape[1])]\n    return X, y, feature_names\n\ndef train_val_test_split(X, y, random_state=42):\n    # 60/20/20 split: train/val/test\n    X_train, X_temp, y_train, y_temp = train_test_split(X, y, test_size=0.4, random_state=random_state)\n    X_val, X_test, y_val, y_test = train_test_split(X_temp, y_temp, test_size=0.5, random_state=random_state)\n    return (X_train, y_train), (X_val, y_val), (X_test, y_test)\n\ndef rmse(y_true, y_pred):\n    return float(np.sqrt(np.mean((y_true - y_pred)**2)))\n\ndef mae(y_true, y_pred):\n    return float(np.mean(np.abs(y_true - y_pred)))\n\ndef r2(y_true, y_pred):\n    ss_res = np.sum((y_true - y_pred)**2)\n    ss_tot = np.sum((y_true - np.mean(y_true))**2)\n    return float(1 - ss_res/ss_tot)\n"
    },
    {
      "cell_type": "code",
      "metadata": {},
      "execution_count": null,
      "outputs": [],
      "source": "import numpy as np\nimport matplotlib.pyplot as plt\nfrom sklearn.linear_model import Ridge\nfrom sklearn.model_selection import learning_curve, validation_curve\nfrom sklearn.preprocessing import StandardScaler\nfrom sklearn.pipeline import Pipeline\n\nX, y, feature_names = load_regression_data()\n(X_train, y_train), (X_val, y_val), (X_test, y_test) = train_val_test_split(X, y)\n\npipe = Pipeline([(\"scaler\", StandardScaler()), (\"model\", Ridge(alpha=1.0))])\n\n# Learning curve\ntrain_sizes, train_scores, val_scores = learning_curve(\n    pipe, X, y, train_sizes=np.linspace(0.1, 1.0, 6), cv=5,\n    scoring=\"neg_root_mean_squared_error\", n_jobs=-1, shuffle=True, random_state=42\n)\n\ntrain_rmse = -train_scores.mean(axis=1)\nval_rmse = -val_scores.mean(axis=1)\n\nplt.figure()\nplt.plot(train_sizes, train_rmse, marker=\"o\", label=\"train\")\nplt.plot(train_sizes, val_rmse, marker=\"o\", label=\"val\")\nplt.title(\"Learning curve (Ridge)\")\nplt.xlabel(\"train size\")\nplt.ylabel(\"RMSE\")\nplt.legend()\n\n# Validation curve for alpha\nalphas = np.logspace(-3, 3, 13)\ntrain_scores, val_scores = validation_curve(\n    Pipeline([(\"scaler\", StandardScaler()), (\"model\", Ridge())]),\n    X, y, param_name=\"model__alpha\", param_range=alphas,\n    cv=5, scoring=\"neg_root_mean_squared_error\", n_jobs=-1\n)\n\nplt.figure()\nplt.semilogx(alphas, -train_scores.mean(axis=1), marker=\"o\", label=\"train\")\nplt.semilogx(alphas, -val_scores.mean(axis=1), marker=\"o\", label=\"val\")\nplt.title(\"Validation curve (Ridge alpha)\")\nplt.xlabel(\"alpha\"); plt.ylabel(\"RMSE\"); plt.legend()\n"
    },
    {
      "cell_type": "code",
      "metadata": {},
      "execution_count": null,
      "outputs": [],
      "source": "# TODO: In 3-5 sentences: identify under/overfitting regions and the fix (more data vs simpler model vs stronger regularization).\n"
    }
  ],
  "metadata": {
    "kernelspec": {
      "display_name": "Python 3",
      "language": "python",
      "name": "python3"
    },
    "language_info": {
      "name": "python",
      "pygments_lexer": "ipython3"
    }
  },
  "nbformat": 4,
  "nbformat_minor": 5
}