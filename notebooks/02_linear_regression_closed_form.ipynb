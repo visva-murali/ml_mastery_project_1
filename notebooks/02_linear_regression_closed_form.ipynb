{
  "cells": [
    {
      "cell_type": "markdown",
      "metadata": {},
      "source": "# 02 \u2014 Linear Regression (Closed Form, OLS) \u2014 From Scratch\n\n**Goal:** Implement OLS with intercept, compare to scikit-learn.\n"
    },
    {
      "cell_type": "code",
      "metadata": {},
      "execution_count": null,
      "outputs": [],
      "source": "import warnings\nimport numpy as np\nimport pandas as pd\n\nfrom sklearn.datasets import fetch_california_housing, make_regression\nfrom sklearn.model_selection import train_test_split\n\ndef load_regression_data(random_state=42):\n    \"\"\"Return (X, y, feature_names) as numpy arrays.\n    Try California Housing; fallback to synthetic if unavailable (e.g., offline).\n    \"\"\"\n    try:\n        cali = fetch_california_housing(as_frame=True)\n        df = cali.frame.copy()\n        X = df.drop(columns=[\"MedHouseVal\"]).values\n        y = df[\"MedHouseVal\"].values\n        feature_names = list(df.drop(columns=[\"MedHouseVal\"]).columns)\n    except Exception as e:\n        warnings.warn(f\"California Housing fetch failed: {e}. Falling back to synthetic make_regression.\")\n        X, y = make_regression(n_samples=5000, n_features=8, n_informative=6, noise=8.5, random_state=random_state)\n        feature_names = [f\"x{i}\" for i in range(X.shape[1])]\n    return X, y, feature_names\n\ndef train_val_test_split(X, y, random_state=42):\n    # 60/20/20 split: train/val/test\n    X_train, X_temp, y_train, y_temp = train_test_split(X, y, test_size=0.4, random_state=random_state)\n    X_val, X_test, y_val, y_test = train_test_split(X_temp, y_temp, test_size=0.5, random_state=random_state)\n    return (X_train, y_train), (X_val, y_val), (X_test, y_test)\n\ndef rmse(y_true, y_pred):\n    return float(np.sqrt(np.mean((y_true - y_pred)**2)))\n\ndef mae(y_true, y_pred):\n    return float(np.mean(np.abs(y_true - y_pred)))\n\ndef r2(y_true, y_pred):\n    ss_res = np.sum((y_true - y_pred)**2)\n    ss_tot = np.sum((y_true - np.mean(y_true))**2)\n    return float(1 - ss_res/ss_tot)\n"
    },
    {
      "cell_type": "code",
      "metadata": {},
      "execution_count": null,
      "outputs": [],
      "source": "import numpy as np\nfrom numpy.linalg import inv, pinv\nfrom sklearn.linear_model import LinearRegression\n\n# Prepare data with intercept term\nX, y, feature_names = load_regression_data()\n(X_train, y_train), (X_val, y_val), (X_test, y_test) = train_val_test_split(X, y)\n\ndef add_intercept(X):\n    return np.c_[np.ones((X.shape[0], 1)), X]\n\nXtr_i = add_intercept(X_train)\nXval_i = add_intercept(X_val)\nXte_i = add_intercept(X_test)\n\n# TODO: Implement OLS using normal equation with pseudo-inverse for stability.\ndef ols_fit(Xi, y):\n    beta = pinv(Xi) @ y\n    return beta\n\ndef ols_predict(Xi, beta):\n    return Xi @ beta\n\nbeta_hat = ols_fit(Xtr_i, y_train)\ny_pred_val = ols_predict(Xval_i, beta_hat)\n\ndef rmse(y_true, y_pred):\n    return float(np.sqrt(np.mean((y_true - y_pred)**2)))\n\nprint(\"From-scratch OLS RMSE (val):\", rmse(y_val, y_pred_val))\n\n# Compare to scikit-learn\nlr = LinearRegression(fit_intercept=True)\nlr.fit(X_train, y_train)\ny_pred_val_skl = lr.predict(X_val)\nprint(\"Sklearn LinearRegression RMSE (val):\", rmse(y_val, y_pred_val_skl))\n\n# TODO: Assert they're close (tolerance ~1e-6 to 1e-4 depending on data scaling).\n"
    },
    {
      "cell_type": "code",
      "metadata": {},
      "execution_count": null,
      "outputs": [],
      "source": "# TODO: Plot residuals (y_true - y_pred) vs predicted for both implementations. One plot per cell.\nimport matplotlib.pyplot as plt\n\nplt.figure()\nplt.scatter(y_pred_val, y_val - y_pred_val, s=6)\nplt.axhline(0)\nplt.title(\"Residuals vs Pred (From-Scratch OLS)\")\n\nplt.figure()\nplt.scatter(y_pred_val_skl, y_val - y_pred_val_skl, s=6)\nplt.axhline(0)\nplt.title(\"Residuals vs Pred (Sklearn OLS)\")\n"
    }
  ],
  "metadata": {
    "kernelspec": {
      "display_name": "Python 3",
      "language": "python",
      "name": "python3"
    },
    "language_info": {
      "name": "python",
      "pygments_lexer": "ipython3"
    }
  },
  "nbformat": 4,
  "nbformat_minor": 5
}