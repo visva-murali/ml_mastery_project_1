{
  "cells": [
    {
      "cell_type": "markdown",
      "metadata": {},
      "source": [
        "# 00 — Setup & Dataset Sanity Check\n",
        "\n",
        "**Goal:** Make sure your environment works, load the dataset, and confirm shapes and basic stats.\n"
      ]
    },
    {
      "cell_type": "code",
      "execution_count": 2,
      "id": "c508c66f",
      "metadata": {},
      "outputs": [
        {
          "name": "stdout",
          "output_type": "stream",
          "text": [
            "Python 3.13.3 (main, Apr  8 2025, 13:54:08) [Clang 17.0.0 (clang-1700.0.13.3)]\n",
            "NumPy 2.3.3\n",
            "Pandas 2.3.3\n",
            "scikit-learn 1.7.2\n",
            "Matplotlib 3.10.6\n"
          ]
        }
      ],
      "source": [
        "# If this cell runs, you're good on core libs.\n",
        "import sys, numpy as np, pandas as pd, sklearn, matplotlib\n",
        "print(\"Python\", sys.version)\n",
        "print(\"NumPy\", np.__version__)\n",
        "print(\"Pandas\", pd.__version__)\n",
        "print(\"scikit-learn\", sklearn.__version__)\n",
        "print(\"Matplotlib\", matplotlib.__version__)\n"
      ]
    },
    {
      "cell_type": "code",
      "execution_count": 3,
      "id": "52ba81ce",
      "metadata": {},
      "outputs": [],
      "source": [
        "import warnings\n",
        "import numpy as np\n",
        "import pandas as pd\n",
        "\n",
        "from sklearn.datasets import fetch_california_housing, make_regression\n",
        "from sklearn.model_selection import train_test_split\n",
        "\n",
        "def load_regression_data(random_state=42):\n",
        "    \"\"\"Return (X, y, feature_names) as numpy arrays.\n",
        "    Try California Housing; fallback to synthetic if unavailable (e.g., offline).\n",
        "    \"\"\"\n",
        "    try:\n",
        "        cali = fetch_california_housing(as_frame=True)\n",
        "        df = cali.frame.copy()\n",
        "        X = df.drop(columns=[\"MedHouseVal\"]).values\n",
        "        y = df[\"MedHouseVal\"].values\n",
        "        feature_names = list(df.drop(columns=[\"MedHouseVal\"]).columns)\n",
        "    except Exception as e:\n",
        "        warnings.warn(f\"California Housing fetch failed: {e}. Falling back to synthetic make_regression.\")\n",
        "        X, y = make_regression(n_samples=5000, n_features=8, n_informative=6, noise=8.5, random_state=random_state)\n",
        "        feature_names = [f\"x{i}\" for i in range(X.shape[1])]\n",
        "    return X, y, feature_names\n",
        "\n",
        "def train_val_test_split(X, y, random_state=42):\n",
        "    # 60/20/20 split: train/val/test\n",
        "    X_train, X_temp, y_train, y_temp = train_test_split(X, y, test_size=0.4, random_state=random_state)\n",
        "    X_val, X_test, y_val, y_test = train_test_split(X_temp, y_temp, test_size=0.5, random_state=random_state)\n",
        "    return (X_train, y_train), (X_val, y_val), (X_test, y_test)\n",
        "\n",
        "def rmse(y_true, y_pred):\n",
        "    return float(np.sqrt(np.mean((y_true - y_pred)**2)))\n",
        "\n",
        "def mae(y_true, y_pred):\n",
        "    return float(np.mean(np.abs(y_true - y_pred)))\n",
        "\n",
        "def r2(y_true, y_pred):\n",
        "    ss_res = np.sum((y_true - y_pred)**2)\n",
        "    ss_tot = np.sum((y_true - np.mean(y_true))**2)\n",
        "    return float(1 - ss_res/ss_tot)\n"
      ]
    },
    {
      "cell_type": "code",
      "execution_count": 5,
      "id": "e90ecc29",
      "metadata": {},
      "outputs": [
        {
          "name": "stdout",
          "output_type": "stream",
          "text": [
            "Shapes: (12384, 8) (4128, 8) (4128, 8)\n",
            "Target stats: 2.0633966957364342 1.1518306473785487\n",
            "   MedInc  HouseAge   AveRooms  AveBedrms  Population  AveOccup  Latitude  \\\n",
            "0  5.8735      35.0   5.811639   1.056662      1521.0  2.329250     34.11   \n",
            "1  1.4688       8.0  10.000000   1.916667        63.0  2.625000     33.32   \n",
            "2  2.1603      28.0   4.808173   0.995460      2008.0  2.279228     38.74   \n",
            "3  4.7404      43.0   5.855140   1.009346       967.0  2.259346     37.58   \n",
            "4  3.2617      10.0   3.929142   1.051896      2032.0  2.027944     37.45   \n",
            "\n",
            "   Longitude   target  \n",
            "0    -118.63  4.48100  \n",
            "1    -115.98  0.53800  \n",
            "2    -120.78  1.11300  \n",
            "3    -122.37  5.00001  \n",
            "4    -121.92  2.52200  \n"
          ]
        }
      ],
      "source": [
        "# Load data and split\n",
        "X, y, feature_names = load_regression_data()\n",
        "(X_train, y_train), (X_val, y_val), (X_test, y_test) = train_val_test_split(X, y)\n",
        "\n",
        "print(\"Shapes:\", X_train.shape, X_val.shape, X_test.shape)\n",
        "print(\"Target stats:\", np.mean(y_train), np.std(y_train))\n",
        "\n",
        "# TODO: Print a small DataFrame preview of X_train/y_train (first 5 rows) with feature names.\n",
        "train_df = pd.DataFrame(X_train, columns=feature_names)\n",
        "train_df['target'] = y_train\n",
        "print(train_df.head())"
      ]
    },
    {
      "cell_type": "code",
      "execution_count": null,
      "metadata": {},
      "outputs": [],
      "source": [
        "# TODO: Plot a simple histogram of y_train and a scatter of one feature vs y (choose a feature).\n",
        "# Use matplotlib directly; one chart per cell; don't hardcode colors.\n",
        "import matplotlib.pyplot as plt\n",
        "\n",
        "# Example (replace '0' with a more interesting feature index after exploration):\n",
        "plt.figure()\n",
        "plt.hist(y_train, bins=30)\n",
        "plt.title(\"Target distribution (train)\")\n",
        "plt.xlabel(\"y\")\n",
        "plt.ylabel(\"count\")\n"
      ]
    },
    {
      "cell_type": "code",
      "execution_count": null,
      "id": "992d6789",
      "metadata": {},
      "outputs": [],
      "source": [
        "import numpy as np\n",
        "import matplotlib.pyplot as plt\n",
        "\n",
        "\n",
        "feat_idx = int(np.argmax(np.std(X_train, axis=0)))\n",
        "feat_name = feature_names[feat_idx] if feature_names else f\"x{feat_idx}\"\n",
        "\n",
        "plt.figure()\n",
        "plt.scatter(X_train[:, feat_idx], y_train, alpha=0.5)\n",
        "plt.title(f\"Feature {feat_name} vs Target (train)\")\n",
        "plt.xlabel(feat_name)\n",
        "plt.ylabel(\"y\")\n",
        "plt.grid(True, alpha=0.3)\n",
        "plt.tight_layout()\n",
        "plt.show()\n"
      ]
    }
  ],
  "metadata": {
    "kernelspec": {
      "display_name": ".venv",
      "language": "python",
      "name": "python3"
    },
    "language_info": {
      "codemirror_mode": {
        "name": "ipython",
        "version": 3
      },
      "file_extension": ".py",
      "mimetype": "text/x-python",
      "name": "python",
      "nbconvert_exporter": "python",
      "pygments_lexer": "ipython3",
      "version": "3.13.3"
    }
  },
  "nbformat": 4,
  "nbformat_minor": 5
}
