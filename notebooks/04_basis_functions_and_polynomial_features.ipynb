{
  "cells": [
    {
      "cell_type": "markdown",
      "metadata": {},
      "source": "# 04 \u2014 Basis Functions & Polynomial Features\n\n**Goal:** Expand feature space with polynomial and interaction terms, and see over/under-fitting.\n"
    },
    {
      "cell_type": "code",
      "metadata": {},
      "execution_count": null,
      "outputs": [],
      "source": "import warnings\nimport numpy as np\nimport pandas as pd\n\nfrom sklearn.datasets import fetch_california_housing, make_regression\nfrom sklearn.model_selection import train_test_split\n\ndef load_regression_data(random_state=42):\n    \"\"\"Return (X, y, feature_names) as numpy arrays.\n    Try California Housing; fallback to synthetic if unavailable (e.g., offline).\n    \"\"\"\n    try:\n        cali = fetch_california_housing(as_frame=True)\n        df = cali.frame.copy()\n        X = df.drop(columns=[\"MedHouseVal\"]).values\n        y = df[\"MedHouseVal\"].values\n        feature_names = list(df.drop(columns=[\"MedHouseVal\"]).columns)\n    except Exception as e:\n        warnings.warn(f\"California Housing fetch failed: {e}. Falling back to synthetic make_regression.\")\n        X, y = make_regression(n_samples=5000, n_features=8, n_informative=6, noise=8.5, random_state=random_state)\n        feature_names = [f\"x{i}\" for i in range(X.shape[1])]\n    return X, y, feature_names\n\ndef train_val_test_split(X, y, random_state=42):\n    # 60/20/20 split: train/val/test\n    X_train, X_temp, y_train, y_temp = train_test_split(X, y, test_size=0.4, random_state=random_state)\n    X_val, X_test, y_val, y_test = train_test_split(X_temp, y_temp, test_size=0.5, random_state=random_state)\n    return (X_train, y_train), (X_val, y_val), (X_test, y_test)\n\ndef rmse(y_true, y_pred):\n    return float(np.sqrt(np.mean((y_true - y_pred)**2)))\n\ndef mae(y_true, y_pred):\n    return float(np.mean(np.abs(y_true - y_pred)))\n\ndef r2(y_true, y_pred):\n    ss_res = np.sum((y_true - y_pred)**2)\n    ss_tot = np.sum((y_true - np.mean(y_true))**2)\n    return float(1 - ss_res/ss_tot)\n"
    },
    {
      "cell_type": "code",
      "metadata": {},
      "execution_count": null,
      "outputs": [],
      "source": "import numpy as np\nimport matplotlib.pyplot as plt\nfrom sklearn.preprocessing import PolynomialFeatures, StandardScaler\nfrom sklearn.pipeline import Pipeline\nfrom sklearn.linear_model import LinearRegression\nfrom sklearn.metrics import mean_squared_error\n\nX, y, feature_names = load_regression_data()\n(X_train, y_train), (X_val, y_val), (X_test, y_test) = train_val_test_split(X, y)\n\n# Baseline linear\nbaseline = Pipeline([(\"scaler\", StandardScaler()), (\"lr\", LinearRegression())])\nbaseline.fit(X_train, y_train)\nbase_rmse = np.sqrt(mean_squared_error(y_val, baseline.predict(X_val)))\n\n# TODO: Create polynomial pipelines with degree=2..5; record RMSE on val; plot validation curve.\ndegrees = [1,2,3,4,5]\nval_rmse = []\nfor d in degrees:\n    pipe = Pipeline([\n        (\"poly\", PolynomialFeatures(degree=d, include_bias=False)),\n        (\"scaler\", StandardScaler(with_mean=False)),  # after poly, sparse-like; safe choice\n        (\"lr\", LinearRegression())\n    ])\n    pipe.fit(X_train, y_train)\n    rmse = np.sqrt(mean_squared_error(y_val, pipe.predict(X_val)))\n    val_rmse.append(rmse)\n    print(f\"Degree {d} RMSE(val): {rmse:.4f}\")\n\nplt.figure()\nplt.plot(degrees, val_rmse, marker=\"o\")\nplt.title(\"Validation curve: Polynomial degree vs RMSE\")\nplt.xlabel(\"degree\")\nplt.ylabel(\"RMSE\")\nprint(\"Baseline linear RMSE(val):\", base_rmse)\n"
    }
  ],
  "metadata": {
    "kernelspec": {
      "display_name": "Python 3",
      "language": "python",
      "name": "python3"
    },
    "language_info": {
      "name": "python",
      "pygments_lexer": "ipython3"
    }
  },
  "nbformat": 4,
  "nbformat_minor": 5
}